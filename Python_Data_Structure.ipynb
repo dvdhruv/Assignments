{
  "nbformat": 4,
  "nbformat_minor": 0,
  "metadata": {
    "colab": {
      "provenance": []
    },
    "kernelspec": {
      "name": "python3",
      "display_name": "Python 3"
    },
    "language_info": {
      "name": "python"
    }
  },
  "cells": [
    {
      "cell_type": "markdown",
      "source": [
        "Data Types and Structures Questions\n"
      ],
      "metadata": {
        "id": "dCTDgZ9QSJS3"
      }
    },
    {
      "cell_type": "markdown",
      "source": [
        "Q1. What are data structures, and why are they important\n",
        "\n",
        "A1. Data structures are ways to store and organize data so it can be used efficiently some examples are list, set, tupples etc.\n",
        "\n",
        "Importance  :-\n",
        "\n",
        "Make data access faster.\n",
        "\n",
        "Help in managing large data easily.\n",
        "\n",
        "Improve code efficiency and performance.\n"
      ],
      "metadata": {
        "id": "VnsrbVfjR-i8"
      }
    },
    {
      "cell_type": "markdown",
      "source": [
        "Q2.  Explain the difference between mutable and immutable data types with examples\n",
        "\n",
        "A2. Mutable data types are the data types that can be changed after creation ex list, set , dictionary.\n",
        "\n",
        "Imutable data types are the data types that cannot be changed after creation ex tupes, string."
      ],
      "metadata": {
        "id": "shSpBAXWTIAq"
      }
    },
    {
      "cell_type": "markdown",
      "source": [
        "Q3. What are the main differences between lists and tuples in Python\n",
        "\n",
        "A3. Lists and tuples are both used to store multiple items in Python, but they differ mainly in mutability. A list is mutable meaning its elements can be changed after creation, while a tuple is immutable meaning its elements cannot be modified once defined."
      ],
      "metadata": {
        "id": "HkpVBT1pKvRM"
      }
    },
    {
      "cell_type": "markdown",
      "source": [
        "Q4. Describe how dictionaries store data\n",
        "\n",
        "A4. Dictionaries in Python store data in the form of key-value pairs.\n",
        "Each key in a dictionary is unique and acts like an index used to access its corresponding value. Ex\n",
        "\n",
        "student = {\"name\": \"Dhruv\", \"age\": 25, \"course\": \"CSE\"}"
      ],
      "metadata": {
        "id": "375lVqxSLQe0"
      }
    },
    {
      "cell_type": "markdown",
      "source": [
        "Q5. Why might you use a set instead of a list in Python\n",
        "\n",
        "A5. We can use a set instead of a list in Python when we need to store unique elements and dont care about the order of items."
      ],
      "metadata": {
        "id": "o-eTf_LjLr5T"
      }
    },
    {
      "cell_type": "markdown",
      "source": [
        "Q6. What is a string in Python, and how is it different from a list\n",
        "\n",
        "A6. A string in Python is a sequence of characters enclosed in quotes. It is immutable, meaning you cannot change its characters once created.\n",
        "\n",
        "A list, on the other hand, is a collection of items that can include different data types like integers ,string etc and is mutable, meaning you can modify, add, or remove elements."
      ],
      "metadata": {
        "id": "NghtAXF8Monp"
      }
    },
    {
      "cell_type": "markdown",
      "source": [
        "Q7. How do tuples ensure data integrity in Python\n",
        "\n",
        "A7. Tuples ensure data integrity in Python because they are immutable, meaning their values cannot be changed, added, or removed after creation."
      ],
      "metadata": {
        "id": "Na_fow4RNYgY"
      }
    },
    {
      "cell_type": "markdown",
      "source": [
        "Q8. What is a hash table, and how does it relate to dictionaries in Python\n",
        "\n",
        "A8. A hash table is a data structure that stores data in key-value pairs and uses a hash function to quickly find the location of a key in memory.\n",
        "\n",
        "A dictionary is built using a hash table internally. It uses hashing to store and retrieve values efficiently based on their keys."
      ],
      "metadata": {
        "id": "eMDAgZZ5NmI6"
      }
    },
    {
      "cell_type": "markdown",
      "source": [
        "Q9. Can lists contain different data types in Python\n",
        "\n",
        "A9. Yes, lists in Python can contain different data types. For example, a single list can have numbers, strings, and even other lists.\n",
        "\n",
        "my_list = [1, \"Hello\", 3.5, True]"
      ],
      "metadata": {
        "id": "QmxV4tYSOHuL"
      }
    },
    {
      "cell_type": "markdown",
      "source": [
        "Q10.  Explain why strings are immutable in Python\n",
        "\n",
        "A10. Strings are immutable in Python because once a string is created, its value cannot be changed or modified in memory.This makes strings more secure, memory-efficient since their values cannot be altered accidentally after creation."
      ],
      "metadata": {
        "id": "uoS-GojNada1"
      }
    },
    {
      "cell_type": "markdown",
      "source": [
        "Q11. What advantages do dictionaries offer over lists for certain tasks\n",
        "\n",
        "A11. You can associate meaningful keys (like names or IDs) with values, making data easier to understand.Each key in a dictionary is unique, which helps prevent data repetition"
      ],
      "metadata": {
        "id": "3nPsXVcEbBWf"
      }
    },
    {
      "cell_type": "markdown",
      "source": [
        "Q12. Describe a scenario where using a tuple would be preferable over a list\n",
        "\n",
        "A12. We use a tuple instead of a list when you want to store data that should not change throughout the program. Ex like student name roll no. , once assigned we dont need to change.\n",
        "\n",
        "student_info = (\"Dhruv Varshney\", 29)"
      ],
      "metadata": {
        "id": "etq8S4pjbf29"
      }
    },
    {
      "cell_type": "markdown",
      "source": [
        "Q13. How do sets handle duplicate values in Python\n",
        "\n",
        "A13. sets automatically remove duplicate values, They only store unique elements, so if we add the same value more than once, it will appear only once in the set."
      ],
      "metadata": {
        "id": "YCP5ihTjcO4X"
      }
    },
    {
      "cell_type": "markdown",
      "source": [
        "Q14. How does the “in” keyword work differently for lists and dictionaries\n",
        "\n",
        "A14. The in keyword in Python behaves differently for lists and dictionaries, primarily in what it searches for like in List it checks if an element (value) exists and in Dictionary it checks if a key exists."
      ],
      "metadata": {
        "id": "tTUnII3PcqQX"
      }
    },
    {
      "cell_type": "markdown",
      "source": [
        "Q15. Can you modify the elements of a tuple? Explain why or why not\n",
        "\n",
        "A15. No, we cannot modify the elements of a tuple in Python.This is because tuples are immutable, meaning once they are created, their values cannot be changed, added, or removed."
      ],
      "metadata": {
        "id": "V_ZoKqYJgJUM"
      }
    },
    {
      "cell_type": "markdown",
      "source": [
        "Q16. What is a nested dictionary, and give an example of its use case\n",
        "\n",
        "A16. A nested dictionary in Python means having one dictionary inside another dictionary. It is useful when we want to store data like details of students, employees, or products. Ex.\n",
        "\n",
        "students = {\n",
        "\n",
        "    \"101\": {\"name\": \"Rahul\", \"age\": 20, \"grade\": \"A\"},\n",
        "\n",
        "    \"102\": {\"name\": \"Neha\", \"age\": 21, \"grade\": \"B\"}\n",
        "}"
      ],
      "metadata": {
        "id": "7XEwPk6DgYmR"
      }
    },
    {
      "cell_type": "markdown",
      "source": [
        "Q17. Describe the time complexity of accessing elements in a dictionary\n",
        "\n",
        "A17. Accessing elements in a dictionary in Python has an average time complexity of O(1) — meaning it takes constant time, no matter how large the dictionary is. Dictionaries use a hash table internally, so when we look up a key, Python calculates its hash value and directly jumps to the memory location where the value is stored."
      ],
      "metadata": {
        "id": "fddwGIoUhpLD"
      }
    },
    {
      "cell_type": "markdown",
      "source": [
        "Q18. In what situations are lists preferred over dictionaries\n",
        "\n",
        "A18. Lists are preferred over dictionaries when you need to store data in an ordered, sequential manner without key–value pairs. Ex storing simple collections of items for shopping."
      ],
      "metadata": {
        "id": "FnZ_FfHeiS_w"
      }
    },
    {
      "cell_type": "markdown",
      "source": [
        "Q19. Why are dictionaries considered unordered, and how does that affect data retrieval\n",
        "\n",
        "A19. Dictionaries are considered unordered because they dont store elements based on their position. Dictionaries store data using hashing, where each keys hash value decides where it is stored in memory."
      ],
      "metadata": {
        "id": "3VVk2kJJiM-4"
      }
    },
    {
      "cell_type": "markdown",
      "source": [
        "Q20. Explain the difference between a list and a dictionary in terms of data retrieval.\n",
        "\n",
        "A20. In List elements are retrieved using index numbers and in Dictionary elements are retrieved using unique keys, not indexes"
      ],
      "metadata": {
        "id": "kojZ3-wsjrkk"
      }
    },
    {
      "cell_type": "markdown",
      "source": [
        "Practical Questions\n"
      ],
      "metadata": {
        "id": "7XFmU0WBkBHo"
      }
    },
    {
      "cell_type": "markdown",
      "source": [
        "Q1. Write a code to create a string with your name and print it"
      ],
      "metadata": {
        "id": "ytypezKbkEJr"
      }
    },
    {
      "cell_type": "code",
      "source": [
        "name = \"Dhruv Varshney\"\n",
        "print(name)"
      ],
      "metadata": {
        "colab": {
          "base_uri": "https://localhost:8080/"
        },
        "id": "Uz3fFuEbkHXG",
        "outputId": "7c6d7d07-5ca9-4f09-a7cc-76c6c435b315"
      },
      "execution_count": 19,
      "outputs": [
        {
          "output_type": "stream",
          "name": "stdout",
          "text": [
            "Dhruv Varshney\n"
          ]
        }
      ]
    },
    {
      "cell_type": "markdown",
      "source": [
        "Q2. Write a code to find the length of the string \"Hello World\""
      ],
      "metadata": {
        "id": "wqCMyeN6mNYH"
      }
    },
    {
      "cell_type": "code",
      "source": [
        "s = \"Hello World\"\n",
        "print(len(s))"
      ],
      "metadata": {
        "colab": {
          "base_uri": "https://localhost:8080/"
        },
        "id": "Vdwo52DfmTbF",
        "outputId": "a304ddc3-24d7-4da8-a853-0cdcf244ea81"
      },
      "execution_count": 20,
      "outputs": [
        {
          "output_type": "stream",
          "name": "stdout",
          "text": [
            "11\n"
          ]
        }
      ]
    },
    {
      "cell_type": "markdown",
      "source": [
        "Q3. Write a code to slice the first 3 characters from the string \"Python Programming\""
      ],
      "metadata": {
        "id": "hnVMVy7ymeZQ"
      }
    },
    {
      "cell_type": "code",
      "source": [
        "s = \"Python Programming\"\n",
        "str = s[0:3]\n",
        "print(str)"
      ],
      "metadata": {
        "colab": {
          "base_uri": "https://localhost:8080/"
        },
        "id": "imJzoqrnmkG5",
        "outputId": "c4ab2024-b3c6-4b09-82bf-986257b77fcb"
      },
      "execution_count": 21,
      "outputs": [
        {
          "output_type": "stream",
          "name": "stdout",
          "text": [
            "Pyt\n"
          ]
        }
      ]
    },
    {
      "cell_type": "markdown",
      "source": [
        "Q4. Write a code to convert the string \"hello\" to uppercase"
      ],
      "metadata": {
        "id": "0jOTUFu2m_XV"
      }
    },
    {
      "cell_type": "code",
      "source": [
        "s = \"hello\"\n",
        "upper_s = s.upper()\n",
        "print(upper_s)"
      ],
      "metadata": {
        "colab": {
          "base_uri": "https://localhost:8080/"
        },
        "id": "NCViN57XnA21",
        "outputId": "4146af92-57cd-4afb-e875-4f57d78f3076"
      },
      "execution_count": 22,
      "outputs": [
        {
          "output_type": "stream",
          "name": "stdout",
          "text": [
            "HELLO\n"
          ]
        }
      ]
    },
    {
      "cell_type": "markdown",
      "source": [
        "Q5. Write a code to replace the word \"apple\" with \"orange\" in the string \"I like apple\""
      ],
      "metadata": {
        "id": "pjiP0ZconPhL"
      }
    },
    {
      "cell_type": "code",
      "source": [
        "s = \"I like apple\"\n",
        "new_s = s.replace(\"apple\", \"orange\")\n",
        "print(new_s)"
      ],
      "metadata": {
        "colab": {
          "base_uri": "https://localhost:8080/"
        },
        "id": "ZT6dhzWSnTbY",
        "outputId": "d7627a50-45d0-4526-9e7c-e2fe96f12c98"
      },
      "execution_count": 23,
      "outputs": [
        {
          "output_type": "stream",
          "name": "stdout",
          "text": [
            "I like orange\n"
          ]
        }
      ]
    },
    {
      "cell_type": "markdown",
      "source": [
        "Q6. Write a code to create a list with numbers 1 to 5 and print it"
      ],
      "metadata": {
        "id": "0qbUTOnBngYX"
      }
    },
    {
      "cell_type": "code",
      "source": [
        "l=[]\n",
        "for i in range(1,6):\n",
        "  l.append(i)\n",
        "print(l)"
      ],
      "metadata": {
        "colab": {
          "base_uri": "https://localhost:8080/"
        },
        "id": "qs05g7vTnnN2",
        "outputId": "22304966-4bc4-4a8e-9aba-fa5537ebd977"
      },
      "execution_count": 24,
      "outputs": [
        {
          "output_type": "stream",
          "name": "stdout",
          "text": [
            "[1, 2, 3, 4, 5]\n"
          ]
        }
      ]
    },
    {
      "cell_type": "markdown",
      "source": [
        "Q7. Write a code to append the number 10 to the list [1, 2, 3, 4]"
      ],
      "metadata": {
        "id": "ln-yaPlOn4U4"
      }
    },
    {
      "cell_type": "code",
      "source": [
        "num = [1, 2, 3, 4]\n",
        "num.append(10)\n",
        "print(num)"
      ],
      "metadata": {
        "colab": {
          "base_uri": "https://localhost:8080/"
        },
        "id": "K7VYCbbVn9BC",
        "outputId": "f21c10c1-0ec0-4754-f812-764ae1f714f6"
      },
      "execution_count": 25,
      "outputs": [
        {
          "output_type": "stream",
          "name": "stdout",
          "text": [
            "[1, 2, 3, 4, 10]\n"
          ]
        }
      ]
    },
    {
      "cell_type": "markdown",
      "source": [
        "Q8. Write a code to remove the number 3 from the list [1, 2, 3, 4, 5]"
      ],
      "metadata": {
        "id": "Bzd87J-doG22"
      }
    },
    {
      "cell_type": "code",
      "source": [
        "num = [1, 2, 3, 4, 5]\n",
        "num.remove(3)\n",
        "print(num)"
      ],
      "metadata": {
        "colab": {
          "base_uri": "https://localhost:8080/"
        },
        "id": "9dpeNnq7oKta",
        "outputId": "ade86d97-fd60-4096-9451-4fe6254557fc"
      },
      "execution_count": 26,
      "outputs": [
        {
          "output_type": "stream",
          "name": "stdout",
          "text": [
            "[1, 2, 4, 5]\n"
          ]
        }
      ]
    },
    {
      "cell_type": "markdown",
      "source": [
        "Q9. Write a code to access the second element in the list ['a', 'b', 'c', 'd']"
      ],
      "metadata": {
        "id": "DaFkwCEEpIt6"
      }
    },
    {
      "cell_type": "code",
      "source": [
        "my_list = ['a', 'b', 'c', 'd']\n",
        "print(my_list[1])"
      ],
      "metadata": {
        "colab": {
          "base_uri": "https://localhost:8080/"
        },
        "id": "8WSLzSSfpQ8-",
        "outputId": "a766c02e-7fe0-4818-bd3b-a2a4c21e005a"
      },
      "execution_count": 27,
      "outputs": [
        {
          "output_type": "stream",
          "name": "stdout",
          "text": [
            "b\n"
          ]
        }
      ]
    },
    {
      "cell_type": "markdown",
      "source": [
        "Q10. Write a code to reverse the list [10, 20, 30, 40, 50]"
      ],
      "metadata": {
        "id": "DbTYIY72pWnH"
      }
    },
    {
      "cell_type": "code",
      "source": [
        "my_list = [10, 20, 30, 40, 50]\n",
        "my_list.reverse()\n",
        "print(my_list)"
      ],
      "metadata": {
        "colab": {
          "base_uri": "https://localhost:8080/"
        },
        "id": "yOXRMNMypZ3x",
        "outputId": "5610650e-b8d4-40f8-94b2-6fb0faef2827"
      },
      "execution_count": 28,
      "outputs": [
        {
          "output_type": "stream",
          "name": "stdout",
          "text": [
            "[50, 40, 30, 20, 10]\n"
          ]
        }
      ]
    },
    {
      "cell_type": "markdown",
      "source": [
        "Q11. Write a code to create a tuple with the elements 100, 200, 300 and print it"
      ],
      "metadata": {
        "id": "fsgJVupCpis9"
      }
    },
    {
      "cell_type": "code",
      "source": [
        "my_tuple = (100, 200, 300)\n",
        "print(my_tuple)"
      ],
      "metadata": {
        "colab": {
          "base_uri": "https://localhost:8080/"
        },
        "id": "2CJt3dwrpl_K",
        "outputId": "c3d6a244-18f2-4c19-fca5-3c1eb8289983"
      },
      "execution_count": 29,
      "outputs": [
        {
          "output_type": "stream",
          "name": "stdout",
          "text": [
            "(100, 200, 300)\n"
          ]
        }
      ]
    },
    {
      "cell_type": "markdown",
      "source": [
        "Q12. Write a code to access the second-to-last element of the tuple ('red', 'green', 'blue', 'yellow')"
      ],
      "metadata": {
        "id": "kTCLph3hpsTV"
      }
    },
    {
      "cell_type": "code",
      "source": [
        "colors = ('red', 'green', 'blue', 'yellow')\n",
        "print(colors[-2])"
      ],
      "metadata": {
        "colab": {
          "base_uri": "https://localhost:8080/"
        },
        "id": "4wu9FeH3pwjS",
        "outputId": "4949dd92-9551-4420-9a1a-be50914652c0"
      },
      "execution_count": 30,
      "outputs": [
        {
          "output_type": "stream",
          "name": "stdout",
          "text": [
            "blue\n"
          ]
        }
      ]
    },
    {
      "cell_type": "markdown",
      "source": [
        "Q13. Write a code to find the minimum number in the tuple (10, 20, 5, 15)"
      ],
      "metadata": {
        "id": "QNNChfdip1tC"
      }
    },
    {
      "cell_type": "code",
      "source": [
        "num = (10, 20, 5, 15)\n",
        "print(min(num))"
      ],
      "metadata": {
        "colab": {
          "base_uri": "https://localhost:8080/"
        },
        "id": "VBHUb7yOp57P",
        "outputId": "f0cbb86c-dd25-4922-db30-c09e922de4f2"
      },
      "execution_count": 31,
      "outputs": [
        {
          "output_type": "stream",
          "name": "stdout",
          "text": [
            "5\n"
          ]
        }
      ]
    },
    {
      "cell_type": "markdown",
      "source": [
        "Q14. Write a code to find the index of the element \"cat\" in the tuple ('dog', 'cat', 'rabbit')"
      ],
      "metadata": {
        "id": "dfGUxvkEqASw"
      }
    },
    {
      "cell_type": "code",
      "source": [
        "animals = ('dog', 'cat', 'rabbit')\n",
        "print(animals.index('cat'))"
      ],
      "metadata": {
        "colab": {
          "base_uri": "https://localhost:8080/"
        },
        "id": "VGc8TRxFqJDG",
        "outputId": "9ad4c690-e205-4969-b224-cf23cd4a5bf7"
      },
      "execution_count": 32,
      "outputs": [
        {
          "output_type": "stream",
          "name": "stdout",
          "text": [
            "1\n"
          ]
        }
      ]
    },
    {
      "cell_type": "markdown",
      "source": [
        "Q15. Write a code to create a tuple containing three different fruits and check if \"kiwi\" is in it"
      ],
      "metadata": {
        "id": "P1BWpR-UqN5m"
      }
    },
    {
      "cell_type": "code",
      "source": [
        "fruits = ('apple', 'mango', 'kiwi')\n",
        "print(\"kiwi\" in fruits)"
      ],
      "metadata": {
        "colab": {
          "base_uri": "https://localhost:8080/"
        },
        "id": "gKJGI7xVqSjF",
        "outputId": "349c7f8e-6f17-4896-b57f-932db5380eb1"
      },
      "execution_count": 33,
      "outputs": [
        {
          "output_type": "stream",
          "name": "stdout",
          "text": [
            "True\n"
          ]
        }
      ]
    },
    {
      "cell_type": "markdown",
      "source": [
        "Q16. Write a code to create a set with the elements 'a', 'b', 'c' and print it"
      ],
      "metadata": {
        "id": "k9RIKLWWqc2E"
      }
    },
    {
      "cell_type": "code",
      "source": [
        "my_set = {'a', 'b', 'c'}\n",
        "print(my_set)"
      ],
      "metadata": {
        "colab": {
          "base_uri": "https://localhost:8080/"
        },
        "id": "tMVQWdfYqhwS",
        "outputId": "eecd2bb8-29e5-4bcf-f772-f029251619a0"
      },
      "execution_count": 34,
      "outputs": [
        {
          "output_type": "stream",
          "name": "stdout",
          "text": [
            "{'c', 'a', 'b'}\n"
          ]
        }
      ]
    },
    {
      "cell_type": "markdown",
      "source": [
        "Q17. Write a code to clear all elements from the set {1, 2, 3, 4, 5}"
      ],
      "metadata": {
        "id": "ixsuvgQACxnu"
      }
    },
    {
      "cell_type": "code",
      "source": [
        "my_set = {1, 2, 3, 4, 5}\n",
        "my_set.clear()\n",
        "print(my_set)"
      ],
      "metadata": {
        "colab": {
          "base_uri": "https://localhost:8080/"
        },
        "id": "TgoBl67OC2WK",
        "outputId": "bd0d4b1e-fa95-46a1-e4d7-9f407493749b"
      },
      "execution_count": 35,
      "outputs": [
        {
          "output_type": "stream",
          "name": "stdout",
          "text": [
            "set()\n"
          ]
        }
      ]
    },
    {
      "cell_type": "markdown",
      "source": [
        "Q18. Write a code to remove the element 4 from the set {1, 2, 3, 4}"
      ],
      "metadata": {
        "id": "LUdKFdPyC_ge"
      }
    },
    {
      "cell_type": "code",
      "source": [
        "my_set = {1, 2, 3, 4}\n",
        "my_set.remove(4)\n",
        "print(my_set)"
      ],
      "metadata": {
        "colab": {
          "base_uri": "https://localhost:8080/"
        },
        "id": "9S_CYeA6DFzH",
        "outputId": "340f3fa4-2adb-49de-d80a-72b93ea1ced6"
      },
      "execution_count": 36,
      "outputs": [
        {
          "output_type": "stream",
          "name": "stdout",
          "text": [
            "{1, 2, 3}\n"
          ]
        }
      ]
    },
    {
      "cell_type": "markdown",
      "source": [
        "Q19. Write a code to find the union of two sets {1, 2, 3} and {3, 4, 5}"
      ],
      "metadata": {
        "id": "Fa7WsiemDKcP"
      }
    },
    {
      "cell_type": "code",
      "source": [
        "set1 = {1, 2, 3}\n",
        "set2 = {3, 4, 5}\n",
        "union_set = set1.union(set2)\n",
        "print(union_set)"
      ],
      "metadata": {
        "colab": {
          "base_uri": "https://localhost:8080/"
        },
        "id": "WtZL-RIvDPfI",
        "outputId": "bd9f9ab7-ea1d-444f-a90d-517e5c6146b6"
      },
      "execution_count": 37,
      "outputs": [
        {
          "output_type": "stream",
          "name": "stdout",
          "text": [
            "{1, 2, 3, 4, 5}\n"
          ]
        }
      ]
    },
    {
      "cell_type": "markdown",
      "source": [
        "Q20. Write a code to find the intersection of two sets {1, 2, 3} and {2, 3, 4}"
      ],
      "metadata": {
        "id": "WNbQxBMGDbr_"
      }
    },
    {
      "cell_type": "code",
      "source": [
        "set1 = {1, 2, 3}\n",
        "set2 = {2, 3, 4}\n",
        "intersection_set = set1.intersection(set2)\n",
        "print(intersection_set)"
      ],
      "metadata": {
        "colab": {
          "base_uri": "https://localhost:8080/"
        },
        "id": "iPicUIJ3DhtW",
        "outputId": "31114355-e528-49b5-8d7b-db0558247b42"
      },
      "execution_count": 38,
      "outputs": [
        {
          "output_type": "stream",
          "name": "stdout",
          "text": [
            "{2, 3}\n"
          ]
        }
      ]
    },
    {
      "cell_type": "markdown",
      "source": [
        "Q21. Write a code to create a dictionary with the keys \"name\", \"age\", and \"city\", and print it"
      ],
      "metadata": {
        "id": "pJs-GtvnDmQu"
      }
    },
    {
      "cell_type": "code",
      "source": [
        "student = {\n",
        "    \"name\": \"Dhruv\",\n",
        "    \"age\": 24,\n",
        "    \"city\": \"Bareilly\"\n",
        "}\n",
        "print(student)"
      ],
      "metadata": {
        "colab": {
          "base_uri": "https://localhost:8080/"
        },
        "id": "WLtlcVN9DsBl",
        "outputId": "30e81ea3-e541-471d-d84c-b853004a1420"
      },
      "execution_count": 39,
      "outputs": [
        {
          "output_type": "stream",
          "name": "stdout",
          "text": [
            "{'name': 'Dhruv', 'age': 24, 'city': 'Bareilly'}\n"
          ]
        }
      ]
    },
    {
      "cell_type": "markdown",
      "source": [
        "Q22. Write a code to add a new key-value pair \"country\": \"USA\" to the dictionary {'name': 'John', 'age': 25}"
      ],
      "metadata": {
        "id": "xKrWPB78D7Wk"
      }
    },
    {
      "cell_type": "code",
      "source": [
        "person = {'name': 'John', 'age': 25}\n",
        "person['country'] = 'USA'\n",
        "print(person)"
      ],
      "metadata": {
        "colab": {
          "base_uri": "https://localhost:8080/"
        },
        "id": "m-PXaItfD-Gb",
        "outputId": "aafa61d8-df66-474a-b9e2-e2fdf8ffd329"
      },
      "execution_count": 40,
      "outputs": [
        {
          "output_type": "stream",
          "name": "stdout",
          "text": [
            "{'name': 'John', 'age': 25, 'country': 'USA'}\n"
          ]
        }
      ]
    },
    {
      "cell_type": "markdown",
      "source": [
        "Q23. Write a code to access the value associated with the key \"name\" in the dictionary {'name': 'Alice', 'age': 30}"
      ],
      "metadata": {
        "id": "asT19F_rEP35"
      }
    },
    {
      "cell_type": "code",
      "source": [
        "person = {'name': 'Alice', 'age': 30}\n",
        "print(person['name'])"
      ],
      "metadata": {
        "colab": {
          "base_uri": "https://localhost:8080/"
        },
        "id": "CZ4Um7E7ETt8",
        "outputId": "8e6b6ac8-4096-45e0-e20c-0943fb10f7e2"
      },
      "execution_count": 41,
      "outputs": [
        {
          "output_type": "stream",
          "name": "stdout",
          "text": [
            "Alice\n"
          ]
        }
      ]
    },
    {
      "cell_type": "markdown",
      "source": [
        "Q24. Write a code to remove the key \"age\" from the dictionary {'name': 'Bob', 'age': 22, 'city': 'New York'}"
      ],
      "metadata": {
        "id": "AYL9p7nZEhhH"
      }
    },
    {
      "cell_type": "code",
      "source": [
        "person = {'name': 'Bob', 'age': 22, 'city': 'New York'}\n",
        "person.pop('age')\n",
        "print(person)"
      ],
      "metadata": {
        "colab": {
          "base_uri": "https://localhost:8080/"
        },
        "id": "YE7jXBQEEnFV",
        "outputId": "6e6c7917-bbc4-4bf1-ee23-acf7019fde1b"
      },
      "execution_count": 42,
      "outputs": [
        {
          "output_type": "stream",
          "name": "stdout",
          "text": [
            "{'name': 'Bob', 'city': 'New York'}\n"
          ]
        }
      ]
    },
    {
      "cell_type": "markdown",
      "source": [
        "Q25. Write a code to check if the key \"city\" exists in the dictionary {'name': 'Alice', 'city': 'Paris'}"
      ],
      "metadata": {
        "id": "p2oz8SEeEvn-"
      }
    },
    {
      "cell_type": "code",
      "source": [
        "person = {'name': 'Alice', 'city': 'Paris'}\n",
        "if 'city' in person:\n",
        "    print(\"Key 'city' exists in the dictionary.\")\n",
        "else:\n",
        "    print(\"Key 'city' does not exist in the dictionary.\")"
      ],
      "metadata": {
        "colab": {
          "base_uri": "https://localhost:8080/"
        },
        "id": "78GAK7GLE0N6",
        "outputId": "acf16f08-1c40-457f-d4f5-fc40462008d2"
      },
      "execution_count": 43,
      "outputs": [
        {
          "output_type": "stream",
          "name": "stdout",
          "text": [
            "Key 'city' exists in the dictionary.\n"
          ]
        }
      ]
    },
    {
      "cell_type": "markdown",
      "source": [
        "Q26. Write a code to create a list, a tuple, and a dictionary, and print them all"
      ],
      "metadata": {
        "id": "ABwCELpzdxgw"
      }
    },
    {
      "cell_type": "code",
      "source": [
        "my_list = [1, 2, 3, 4]\n",
        "my_tuple = ('apple', 'banana', 'mango')\n",
        "my_dict = {'name': 'Dhruv', 'age': 24, 'city': 'Bareilly'}\n",
        "\n",
        "print(\"List:\", my_list)\n",
        "print(\"Tuple:\", my_tuple)\n",
        "print(\"Dictionary:\", my_dict)"
      ],
      "metadata": {
        "colab": {
          "base_uri": "https://localhost:8080/"
        },
        "id": "ySp-do6KeFnX",
        "outputId": "0a3a4f30-e497-4518-9bc8-52f0cc60c147"
      },
      "execution_count": 44,
      "outputs": [
        {
          "output_type": "stream",
          "name": "stdout",
          "text": [
            "List: [1, 2, 3, 4]\n",
            "Tuple: ('apple', 'banana', 'mango')\n",
            "Dictionary: {'name': 'Dhruv', 'age': 24, 'city': 'Bareilly'}\n"
          ]
        }
      ]
    },
    {
      "cell_type": "markdown",
      "source": [
        "Q27.  Write a code to create a list of 5 random numbers between 1 and 100, sort it in ascending order, and print the result"
      ],
      "metadata": {
        "id": "1cZ3T2qFeTN8"
      }
    },
    {
      "cell_type": "code",
      "source": [
        "import random\n",
        "numbers = [random.randint(1, 100) for _ in range(5)]\n",
        "\n",
        "print(\"Random list:\", numbers)\n",
        "\n",
        "numbers.sort()\n",
        "\n",
        "print(\"Sorted list:\", numbers)"
      ],
      "metadata": {
        "colab": {
          "base_uri": "https://localhost:8080/"
        },
        "id": "GocDE0ZSeY7n",
        "outputId": "5468df82-4d6c-4a3f-8c37-e4b15b90d6da"
      },
      "execution_count": 45,
      "outputs": [
        {
          "output_type": "stream",
          "name": "stdout",
          "text": [
            "Random list: [8, 46, 81, 100, 86]\n",
            "Sorted list: [8, 46, 81, 86, 100]\n"
          ]
        }
      ]
    },
    {
      "cell_type": "markdown",
      "source": [
        "Q28. Write a code to create a list with strings and print the element at the third index"
      ],
      "metadata": {
        "id": "S_WNK5fofBhR"
      }
    },
    {
      "cell_type": "code",
      "source": [
        "fruits = [\"apple\", \"banana\", \"pineapple\", \"mango\", \"orange\"]\n",
        "print(fruits[3])"
      ],
      "metadata": {
        "colab": {
          "base_uri": "https://localhost:8080/"
        },
        "id": "AraBaekgfJ48",
        "outputId": "b0203eac-915c-4a3d-df0e-fdf961be5210"
      },
      "execution_count": 46,
      "outputs": [
        {
          "output_type": "stream",
          "name": "stdout",
          "text": [
            "mango\n"
          ]
        }
      ]
    },
    {
      "cell_type": "markdown",
      "source": [
        "Q29. Write a code to combine two dictionaries into one and print the result"
      ],
      "metadata": {
        "id": "fcyDFJSBfc-b"
      }
    },
    {
      "cell_type": "code",
      "source": [
        "dict_1 = {'name': 'Dhruv', 'age': 25}\n",
        "dict_2 = {'city': 'Bareilly', 'country': 'India'}\n",
        "\n",
        "dict_1.update(dict_2)\n",
        "\n",
        "print(dict_1)"
      ],
      "metadata": {
        "colab": {
          "base_uri": "https://localhost:8080/"
        },
        "id": "fRLJFiCHfgHA",
        "outputId": "27f37384-05b2-4711-98e1-7a350de7b56a"
      },
      "execution_count": 47,
      "outputs": [
        {
          "output_type": "stream",
          "name": "stdout",
          "text": [
            "{'name': 'Dhruv', 'age': 25, 'city': 'Bareilly', 'country': 'India'}\n"
          ]
        }
      ]
    },
    {
      "cell_type": "markdown",
      "source": [
        "Q30. Write a code to convert a list of strings into a set"
      ],
      "metadata": {
        "id": "cbaQz8rxhgFV"
      }
    },
    {
      "cell_type": "code",
      "source": [
        "fruits = [\"apple\", \"banana\", \"mango\", \"apple\",\"mango\"]\n",
        "\n",
        "fruit_set = set(fruits)\n",
        "\n",
        "print(fruit_set)"
      ],
      "metadata": {
        "colab": {
          "base_uri": "https://localhost:8080/"
        },
        "id": "wGaiXbyKhkfi",
        "outputId": "bb578cfb-7593-4c15-fca0-ad73aeb1c4bb"
      },
      "execution_count": 48,
      "outputs": [
        {
          "output_type": "stream",
          "name": "stdout",
          "text": [
            "{'banana', 'mango', 'apple'}\n"
          ]
        }
      ]
    }
  ]
}