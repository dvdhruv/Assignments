{
  "nbformat": 4,
  "nbformat_minor": 0,
  "metadata": {
    "colab": {
      "provenance": []
    },
    "kernelspec": {
      "name": "python3",
      "display_name": "Python 3"
    },
    "language_info": {
      "name": "python"
    }
  },
  "cells": [
    {
      "cell_type": "markdown",
      "source": [
        "**Python Basics Questions**"
      ],
      "metadata": {
        "id": "mNvXTiwRKjQl"
      }
    },
    {
      "cell_type": "markdown",
      "source": [
        "Q1. What is Python, and why is it popular?\n",
        "\n",
        "A1. Python is a high-level interpreted programming language. It is popular because it is easy to learn and has huge libraries. It is used in web development , data science and many more places.\n",
        "\n",
        "\n",
        "Q2. What is an interpreter in Python?\n",
        "\n",
        "A2. An interpreter in Python is a program that reads and executes Python code line by line instead of compiling the whole program at once.\n",
        "\n",
        "Q3. What are pre-defined keywords in Python?\n",
        "\n",
        "A3. Pre-defined keywords in Python are reserved words that have a special meaning and purpose in the language e.g. if, else, for, while etc.\n",
        "\n",
        "Q4. Can keywords be used as variable names?\n",
        "\n",
        "A4. The answer is No, keywords cannot be used as variable names in Python. If we try to use them then it will give syntax errors.\n",
        "\n",
        "Q5. What is mutability in Python?\n",
        "\n",
        "A5. Mutability in Python means whether an object’s value can be changed after creation. Eg lists are mutable objects.\n",
        "\n",
        "Q6. Why are lists mutable, but tuples are immutable?\n",
        "\n",
        "A6. Lists are mutable because their elements can be changed or modified after creation. Tuples are immutable because once they are created, their elements cannot be changed.\n",
        "\n",
        "Q7. What is the difference between “==” and “is” operators in Python?\n",
        "\n",
        "A7. The “==” operator checks if the values of two objects are the same whereas the “is” operator checks if both variables refer to the same object in memory.\n",
        "\n",
        "Q8. What are logical operators in Python?\n",
        "\n",
        "A8. Logical operators in Python are used to combine conditional statements and return true or false some operators are or, and etc.\n",
        "\n",
        "Q9. What is type casting in Python?\n",
        "\n",
        "A9. Type casting in Python means converting a value from one data type to another.\n",
        "\n",
        "Q10. What is the difference between implicit and explicit type casting?\n",
        "\n",
        "A10. In programming, type casting is the process of converting a variable from one data type to another.\n",
        "\n",
        "Implicit Type Casting : It is performed automatically by the compiler when Python changes the data type on its own when needed during operations.\n",
        "\n",
        "Explicit Type Casting : Explicit type casting is when the programmer manually specifies the data type conversion in the code.\n",
        "\n",
        "Q11. What is the purpose of conditional statements in Python?\n",
        "\n",
        "A11. The primary purpose of conditional statements in Python is to control the flow of a program's execution by making decisions. They allow your code to perform different actions based on whether a specific condition is true or false.\n",
        "\n",
        "Q12. How does the elif statement work?\n",
        "\n",
        "A12. The elif statement in Python is short for “else if”. It lets you check multiple conditions one by one after the initial if.\n",
        "\n",
        "Q13. What is the difference between for and while loops?\n",
        "\n",
        "A13. For loop is used when you know in advance how many times you want to run the loop. While loop is used when you want the loop to run until a certain condition becomes false.\n",
        "\n",
        "Q14. Describe a scenario where a while loop is more suitable than a for loop?\n",
        "\n",
        "A14. A while loop is more suitable when we don’t know in advance how many times the loop should run e.g. continuously taking user input until we type exit.\n"
      ],
      "metadata": {
        "id": "wJYgngdOKqoj"
      }
    },
    {
      "cell_type": "markdown",
      "source": [
        "**Practical Questions**"
      ],
      "metadata": {
        "id": "wXvWIKJaLmWq"
      }
    },
    {
      "cell_type": "markdown",
      "source": [
        "Q1. Write a Python program to print \"Hello, World!y\n"
      ],
      "metadata": {
        "id": "ebU699RvLqAd"
      }
    },
    {
      "cell_type": "code",
      "source": [
        "print('Hello, World!')"
      ],
      "metadata": {
        "colab": {
          "base_uri": "https://localhost:8080/"
        },
        "id": "JwPmUTYSLwFV",
        "outputId": "af339a0e-f524-4de0-c1a6-cf41cd0fb0be"
      },
      "execution_count": null,
      "outputs": [
        {
          "output_type": "stream",
          "name": "stdout",
          "text": [
            "Hello, World!\n"
          ]
        }
      ]
    },
    {
      "cell_type": "markdown",
      "source": [
        "Q2. Write a Python program that displays your name and age"
      ],
      "metadata": {
        "id": "g5YUFzBmMALn"
      }
    },
    {
      "cell_type": "code",
      "source": [
        "name = \"Dhruv Varshney\"\n",
        "age = 25\n",
        "\n",
        "print(\"My name is \"+ name)\n",
        "print(\"I am \"+ str(age) + \" years old\")"
      ],
      "metadata": {
        "colab": {
          "base_uri": "https://localhost:8080/"
        },
        "id": "2cCOefV6MITU",
        "outputId": "89faa2df-a193-4bbb-dae1-874205840c98"
      },
      "execution_count": null,
      "outputs": [
        {
          "output_type": "stream",
          "name": "stdout",
          "text": [
            "My name is Dhruv Varshney\n",
            "I am 25 years old\n"
          ]
        }
      ]
    },
    {
      "cell_type": "markdown",
      "source": [
        "Q3. Write code to print all the pre-defined keywords in Python using the keyword library"
      ],
      "metadata": {
        "id": "AfDipXDwM-ZN"
      }
    },
    {
      "cell_type": "code",
      "source": [
        "help('keywords')"
      ],
      "metadata": {
        "colab": {
          "base_uri": "https://localhost:8080/"
        },
        "id": "5ZOBB-iONDEE",
        "outputId": "539f93c7-d1b1-458b-c595-6bc3444b49ab"
      },
      "execution_count": null,
      "outputs": [
        {
          "output_type": "stream",
          "name": "stdout",
          "text": [
            "\n",
            "Here is a list of the Python keywords.  Enter any keyword to get more help.\n",
            "\n",
            "False               class               from                or\n",
            "None                continue            global              pass\n",
            "True                def                 if                  raise\n",
            "and                 del                 import              return\n",
            "as                  elif                in                  try\n",
            "assert              else                is                  while\n",
            "async               except              lambda              with\n",
            "await               finally             nonlocal            yield\n",
            "break               for                 not                 \n",
            "\n"
          ]
        }
      ]
    },
    {
      "cell_type": "markdown",
      "source": [
        "Q4. Write a program that checks if a given word is a Python keyword"
      ],
      "metadata": {
        "id": "G1778Ql5OyQe"
      }
    },
    {
      "cell_type": "code",
      "source": [
        "import keyword\n",
        "\n",
        "word = input(\"Enter a word: \")\n",
        "\n",
        "if keyword.iskeyword(word):\n",
        "    print(f\"\\n'{word}' is a Python keyword.\")\n",
        "else:\n",
        "    print(f\"\\n'{word}' is NOT a Python keyword.\")"
      ],
      "metadata": {
        "colab": {
          "base_uri": "https://localhost:8080/"
        },
        "id": "KpkbOpdpO4EJ",
        "outputId": "7be9029f-47a9-4ab9-8d5f-e7fba13de7e8"
      },
      "execution_count": null,
      "outputs": [
        {
          "output_type": "stream",
          "name": "stdout",
          "text": [
            "Enter a word: yo\n",
            "\n",
            "'yo' is NOT a Python keyword.\n"
          ]
        }
      ]
    },
    {
      "cell_type": "markdown",
      "source": [
        "Q5. Create a list and tuple in Python, and demonstrate how attempting to change an element works differently\n",
        "for each."
      ],
      "metadata": {
        "id": "HQvT6V1fQ5eg"
      }
    },
    {
      "cell_type": "code",
      "source": [
        "# Creating a list and a tuple\n",
        "my_list = [1, 2, 3]\n",
        "my_tuple = (1, 2, 3)\n",
        "\n",
        "print(\"Original list:\", my_list)\n",
        "print(\"Original tuple:\", my_tuple)\n",
        "\n",
        "# Changing an element in the list (allowed)\n",
        "my_list[1] = 5\n",
        "print(\"\\nList after modification:\", my_list)\n",
        "\n",
        "# Trying to change an element in the tuple (not allowed)\n",
        "try:\n",
        "    my_tuple[1] = 5\n",
        "except TypeError as e:\n",
        "    print(\"\\nError when modifying tuple:\", e)\n"
      ],
      "metadata": {
        "colab": {
          "base_uri": "https://localhost:8080/"
        },
        "id": "eh2y3TlYQ_fe",
        "outputId": "dd1f2764-8648-4c45-83f2-6873abab1c7a"
      },
      "execution_count": null,
      "outputs": [
        {
          "output_type": "stream",
          "name": "stdout",
          "text": [
            "Original list: [1, 2, 3]\n",
            "Original tuple: (1, 2, 3)\n",
            "\n",
            "List after modification: [1, 5, 3]\n",
            "\n",
            "Error when modifying tuple: 'tuple' object does not support item assignment\n"
          ]
        }
      ]
    },
    {
      "cell_type": "markdown",
      "source": [
        "Q6. Write a function to demonstrate the behavior of mutable and immutable arguments?"
      ],
      "metadata": {
        "id": "EiV8-A5rNuRg"
      }
    },
    {
      "cell_type": "code",
      "source": [
        "def modify_data(my_list, my_tuple):\n",
        "\n",
        "    my_list[0] = 4\n",
        "    print(\"Inside function (after modifying list):\", my_list)\n",
        "\n",
        "    try:\n",
        "        my_tuple[0] = 4\n",
        "    except TypeError:\n",
        "        print(\"Inside function: Cannot modify tuple because it is immutable\")\n",
        "\n",
        "#list and tuple\n",
        "numbers_list = [1, 2, 3]\n",
        "numbers_tuple = (1, 2, 3)\n",
        "\n",
        "print(\"Before function call:\")\n",
        "print(\"List:\", numbers_list)\n",
        "print(\"Tuple:\", numbers_tuple)\n",
        "\n",
        "modify_data(numbers_list, numbers_tuple)\n",
        "\n",
        "print(\"\\nAfter function call:\")\n",
        "print(\"List:\", numbers_list)\n",
        "print(\"Tuple:\", numbers_tuple)"
      ],
      "metadata": {
        "colab": {
          "base_uri": "https://localhost:8080/"
        },
        "id": "OD_2HWblfE6p",
        "outputId": "4a1d70ce-0e2a-457d-9e69-fc222d0354f3"
      },
      "execution_count": null,
      "outputs": [
        {
          "output_type": "stream",
          "name": "stdout",
          "text": [
            "Before function call:\n",
            "List: [1, 2, 3]\n",
            "Tuple: (1, 2, 3)\n",
            "Inside function (after modifying list): [4, 2, 3]\n",
            "Inside function: Cannot modify tuple because it is immutable\n",
            "\n",
            "After function call:\n",
            "List: [4, 2, 3]\n",
            "Tuple: (1, 2, 3)\n"
          ]
        }
      ]
    },
    {
      "cell_type": "markdown",
      "source": [
        " Q7. Write a program that performs basic arithmetic operations on two user-input numbers"
      ],
      "metadata": {
        "id": "WuvnHPQHgG68"
      }
    },
    {
      "cell_type": "code",
      "source": [
        "num1 = int(input(\"Enter first number: \"))\n",
        "num2 = int(input(\"Enter second number: \"))\n",
        "\n",
        "print(\"Addition:\", num1 + num2)\n",
        "print(\"Subtraction:\", num1 - num2)\n",
        "print(\"Multiplication:\", num1 * num2)\n",
        "\n",
        "if num2 != 0:\n",
        "    print(\"Division:\", num1 / num2)\n",
        "else:\n",
        "    print(\"Division: Not possible (cannot divide by zero)\")"
      ],
      "metadata": {
        "colab": {
          "base_uri": "https://localhost:8080/"
        },
        "id": "rEpuLkyugMRL",
        "outputId": "34812dd6-c4c9-4474-f8c0-b0787a442ffa"
      },
      "execution_count": null,
      "outputs": [
        {
          "output_type": "stream",
          "name": "stdout",
          "text": [
            "Enter first number: 5\n",
            "Enter second number: 2\n",
            "Addition: 7\n",
            "Subtraction: 3\n",
            "Multiplication: 10\n",
            "Division: 2.5\n"
          ]
        }
      ]
    },
    {
      "cell_type": "markdown",
      "source": [
        "Q8.  Write a program to demonstrate the use of logical operators"
      ],
      "metadata": {
        "id": "v0eC3Qx5gqB_"
      }
    },
    {
      "cell_type": "code",
      "source": [
        "a = 10\n",
        "b = 5\n",
        "c = 0\n",
        "\n",
        "# Example of AND operator\n",
        "print(\"AND Operator Examples:\")\n",
        "print(\"(a > b) and (b > c):\", (a > b) and (b > c))   # True and True → True\n",
        "print(\"(a > b) and (b < c):\", (a > b) and (b < c))   # True and False → False\n",
        "print()\n",
        "\n",
        "# Example of OR operator\n",
        "print(\"OR Operator Examples:\")\n",
        "print(\"(a > b) or (b < c):\", (a > b) or (b < c))     # True or False → True\n",
        "print(\"(a < b) or (b < c):\", (a < b) or (b < c))     # False or False → False\n",
        "print()\n",
        "\n",
        "# Example of NOT operator\n",
        "print(\"NOT Operator Examples:\")\n",
        "print(\"not(a > b):\", not(a > b))                     # not(True) → False\n",
        "print(\"not(c > b):\", not(c > b))                     # not(False) → True\n"
      ],
      "metadata": {
        "colab": {
          "base_uri": "https://localhost:8080/"
        },
        "id": "DLatw-_RismO",
        "outputId": "bfa586ff-bc17-4543-d1d1-5971d64d1e59"
      },
      "execution_count": null,
      "outputs": [
        {
          "output_type": "stream",
          "name": "stdout",
          "text": [
            "AND Operator Examples:\n",
            "(a > b) and (b > c): True\n",
            "(a > b) and (b < c): False\n",
            "\n",
            "OR Operator Examples:\n",
            "(a > b) or (b < c): True\n",
            "(a < b) or (b < c): False\n",
            "\n",
            "NOT Operator Examples:\n",
            "not(a > b): False\n",
            "not(c > b): True\n"
          ]
        }
      ]
    },
    {
      "cell_type": "markdown",
      "source": [
        "Q9. Write a Python program to convert user input from string to integer, float, and boolean types."
      ],
      "metadata": {
        "id": "3BcAThvCjE7y"
      }
    },
    {
      "cell_type": "code",
      "source": [
        "user_input = input(\"Enter a value: \")\n",
        "\n",
        "# Converting string to integer\n",
        "try:\n",
        "    int_value = int(user_input)\n",
        "    print(\"Integer value:\", int_value)\n",
        "except ValueError:\n",
        "    print(\"Cannot convert to integer\")\n",
        "\n",
        "# Converting string to float\n",
        "try:\n",
        "    float_value = float(user_input)\n",
        "    print(\"Float value:\", float_value)\n",
        "except ValueError:\n",
        "    print(\"Cannot convert to float\")\n",
        "\n",
        "# Converting string to boolean\n",
        "print(bool(user_input))\n"
      ],
      "metadata": {
        "colab": {
          "base_uri": "https://localhost:8080/"
        },
        "id": "dmpdm8lLjJFI",
        "outputId": "e55f838b-3a68-4a33-941f-5f67a8df3347"
      },
      "execution_count": null,
      "outputs": [
        {
          "output_type": "stream",
          "name": "stdout",
          "text": [
            "Enter a value: \n",
            "Cannot convert to integer\n",
            "Cannot convert to float\n",
            "False\n"
          ]
        }
      ]
    },
    {
      "cell_type": "markdown",
      "source": [
        "Q10.  Write code to demonstrate type casting with list elements"
      ],
      "metadata": {
        "id": "ddZxj92StK3x"
      }
    },
    {
      "cell_type": "code",
      "source": [
        "data = [\"10\", \"20\", \"30\", \"40\"]\n",
        "\n",
        "# Convert each element to integer\n",
        "int_list = [int(x) for x in data]\n",
        "print(\"After converting to integers:\", int_list)"
      ],
      "metadata": {
        "colab": {
          "base_uri": "https://localhost:8080/"
        },
        "id": "N4ViS4kJtO24",
        "outputId": "efee16b6-b25b-4f86-e242-8754bb53d5f7"
      },
      "execution_count": null,
      "outputs": [
        {
          "output_type": "stream",
          "name": "stdout",
          "text": [
            "After converting to integers: [10, 20, 30, 40]\n"
          ]
        }
      ]
    },
    {
      "cell_type": "markdown",
      "source": [
        "Q11. Write a program that checks if a number is positive, negative, or zero."
      ],
      "metadata": {
        "id": "BIa18OH1tmv8"
      }
    },
    {
      "cell_type": "code",
      "source": [
        "num = float(input(\"Enter a number: \"))\n",
        "if num > 0:\n",
        "    print(\"The number is positive.\")\n",
        "elif num < 0:\n",
        "    print(\"The number is negative.\")\n",
        "else:\n",
        "    print(\"The number is zero.\")"
      ],
      "metadata": {
        "colab": {
          "base_uri": "https://localhost:8080/"
        },
        "id": "BserPqNvt7BL",
        "outputId": "47e71c3a-c3e7-48cc-8d48-6b0e5d8f5b52"
      },
      "execution_count": null,
      "outputs": [
        {
          "output_type": "stream",
          "name": "stdout",
          "text": [
            "Enter a number: 0\n",
            "The number is zero.\n"
          ]
        }
      ]
    },
    {
      "cell_type": "markdown",
      "source": [
        "Q12. Write a for loop to print numbers from 1 to 10"
      ],
      "metadata": {
        "id": "LOcEX38BuHVl"
      }
    },
    {
      "cell_type": "code",
      "source": [
        "for i in range(1, 11):\n",
        "    print(i)"
      ],
      "metadata": {
        "colab": {
          "base_uri": "https://localhost:8080/"
        },
        "id": "Y3QAhkkbuTK6",
        "outputId": "e2e94ce2-4cd4-42f1-c0cc-7dbadd40fe0a"
      },
      "execution_count": null,
      "outputs": [
        {
          "output_type": "stream",
          "name": "stdout",
          "text": [
            "1\n",
            "2\n",
            "3\n",
            "4\n",
            "5\n",
            "6\n",
            "7\n",
            "8\n",
            "9\n",
            "10\n"
          ]
        }
      ]
    },
    {
      "cell_type": "markdown",
      "source": [
        "Q13.  Write a Python program to find the sum of all even numbers between 1 and 50"
      ],
      "metadata": {
        "id": "hkMyLERKuhTt"
      }
    },
    {
      "cell_type": "code",
      "source": [
        "sum = 0\n",
        "for i in range(1, 51):\n",
        "    if i % 2 == 0:\n",
        "        sum += i\n",
        "print(\"Sum of all even numbers between 1 and 50 is:\", sum)"
      ],
      "metadata": {
        "colab": {
          "base_uri": "https://localhost:8080/"
        },
        "id": "WVItz0p7ulEG",
        "outputId": "4bc088da-61b1-4482-e0d9-c9c3117eaa3b"
      },
      "execution_count": null,
      "outputs": [
        {
          "output_type": "stream",
          "name": "stdout",
          "text": [
            "Sum of all even numbers between 1 and 50 is: 650\n"
          ]
        }
      ]
    },
    {
      "cell_type": "markdown",
      "source": [
        "Q14. Write a program to reverse a string using a while loop"
      ],
      "metadata": {
        "id": "ctvnpffSvtr8"
      }
    },
    {
      "cell_type": "code",
      "source": [
        "my_string = \"Hello World\"\n",
        "\n",
        "reversed_string = \"\"\n",
        "i = len(my_string) - 1\n",
        "\n",
        "while i >= 0:\n",
        "    reversed_string += my_string[i]\n",
        "    i -= 1\n",
        "\n",
        "print(\"Original string:\", my_string)\n",
        "print(\"Reversed string:\", reversed_string)"
      ],
      "metadata": {
        "colab": {
          "base_uri": "https://localhost:8080/"
        },
        "id": "a3h9RfrZv8qy",
        "outputId": "f41ed688-ccfa-411b-836a-b5f1ca202ac2"
      },
      "execution_count": null,
      "outputs": [
        {
          "output_type": "stream",
          "name": "stdout",
          "text": [
            "Old string: Hello World\n",
            "New string: dlroW olleH\n"
          ]
        }
      ]
    },
    {
      "cell_type": "markdown",
      "source": [
        "Q15. Write a Python program to calculate the factorial of a number provided by the user using a while loop"
      ],
      "metadata": {
        "id": "bQ3KsfmRwiyn"
      }
    },
    {
      "cell_type": "code",
      "source": [
        "num = int(input(\"Enter a number: \"))\n",
        "factorial = 1\n",
        "i = 1\n",
        "\n",
        "while i <= num:\n",
        "    factorial *= i\n",
        "    i += 1\n",
        "print(\"Factorial is:\", factorial)"
      ],
      "metadata": {
        "colab": {
          "base_uri": "https://localhost:8080/"
        },
        "id": "wKnhrYJUwnYi",
        "outputId": "fdf142ea-76e4-461e-f6fd-9d2f8d8f071a"
      },
      "execution_count": null,
      "outputs": [
        {
          "output_type": "stream",
          "name": "stdout",
          "text": [
            "Enter a number: 35\n",
            "Factorial is: 10333147966386144929666651337523200000000\n"
          ]
        }
      ]
    },
    {
      "cell_type": "markdown",
      "source": [],
      "metadata": {
        "id": "wlywr6ZCwQWz"
      }
    }
  ]
}